{
 "cells": [
  {
   "cell_type": "markdown",
   "metadata": {},
   "source": [
    "1. Пользователь вводит целое число. Программа суммирует все его цифры, затем складывает цифры полученного числа и повторяет процесс до тех пор, пока не получится однозначное число.\n",
    "\n",
    "Пример:<br>\n",
    "- 545 -> 5\n",
    "- 12345 -> 6"
   ]
  },
  {
   "cell_type": "code",
   "execution_count": null,
   "metadata": {},
   "outputs": [],
   "source": [
    "number = None\n",
    "while True:\n",
    "    number = input(\"Введите число:\\n\")\n",
    "    if number.isdigit():\n",
    "        break\n",
    "while len(number) > 1:\n",
    "    sum = 0\n",
    "    for i in range(len(number)):\n",
    "        sum += int(number[i])\n",
    "    number = str(sum)\n",
    "print(number)"
   ]
  },
  {
   "cell_type": "markdown",
   "metadata": {},
   "source": [
    "2. Кинотеатр. Дан список, состоящий из вложенных списков, где каждый вложенный список представляет собой ряд с местами (0 — свободное место, 1 — занятое). Пользователь вводит количество требуемых билетов. Программа должна найти ряд, в котором есть достаточно свободных мест подряд для покупки нужного количества билетов. Если таких рядов несколько, выбрать тот, который расположен ближе к экрану (нулевой ряд считается самым близким). Если подходящих мест нет, вывести False.\n",
    "\n",
    "Пример:\n",
    "\n",
    "- [[0,1,1,0], [1,0,0,0], [0,1,0,0]], 2 -> 1<br>\n",
    "- [[0,1,1,0], [1,0,1,0], [1,1,0,1]], 2 -> False"
   ]
  },
  {
   "cell_type": "code",
   "execution_count": null,
   "metadata": {},
   "outputs": [],
   "source": [
    "cinema_hall_1 = [[0,0,1,0], [1,1,0,1], [1,0,0,1], [0,0,0,1]]\n",
    "cinema_hall_2 = [[1,1,1,0], [1,0,0,0], [0,0,0,0], [1,1,1,1]]\n",
    "cinema_hall_3 = [[0,1,0,1], [1,0,1,0], [0,1,1,0], [0,0,1,1]]\n",
    "\n",
    "tickets = int(input(\"Введите кол-во билетов:\\n\"))\n",
    "\n",
    "cinema_hall = cinema_hall_3\n",
    "\n",
    "row = None\n",
    "for i in range(len(cinema_hall)):\n",
    "    max_free_seats_sequence = 0\n",
    "    free_seats = 0\n",
    "    for j in range(len(cinema_hall[i])):\n",
    "        if cinema_hall[i][j] == 0:\n",
    "            free_seats += 1\n",
    "        elif free_seats > max_free_seats_sequence:\n",
    "            max_free_seats_sequence = free_seats\n",
    "            free_seats = 0\n",
    "    if free_seats > max_free_seats_sequence:\n",
    "        max_free_seats_sequence = free_seats\n",
    "    if max_free_seats_sequence >= tickets:\n",
    "        row = i + 1\n",
    "        break\n",
    "else:\n",
    "    row = False\n",
    "print(f\"Зал:{cinema_hall}, Кол-во мест: {tickets}, Подходящий ряд: {row}\")"
   ]
  },
  {
   "cell_type": "markdown",
   "metadata": {},
   "source": [
    "3. Написать упрощенную версию алгоритма сжатия RLE. Алгоритм RLE объединяет подряд идущие одинаковые символы, представляя их как количество повторений и сам символ.\n",
    "\n",
    "Пример:<br>\n",
    "- aaabbbbccccc → 3a4b5c\n",
    "- asssdddsssddd → 1a3s3d3s3d\n",
    "- abcba → 1a1b1c1b1a"
   ]
  },
  {
   "cell_type": "code",
   "execution_count": null,
   "metadata": {},
   "outputs": [],
   "source": [
    "string = input(\"Введите строку сиволов:\\n\")\n",
    "\n",
    "output = \"\"\n",
    "counter = 0\n",
    "for i in range(len(string)):\n",
    "    counter += 1\n",
    "    if i < len(string)-1:\n",
    "        if string[i] != string[i+1]:\n",
    "            output += f\"{counter}{string[i]}\"\n",
    "            counter = 0\n",
    "    else:\n",
    "        output += f\"{counter}{string[i]}\"\n",
    "print(output)"
   ]
  },
  {
   "cell_type": "markdown",
   "metadata": {},
   "source": [
    "4. Шифр Цезаря. Пользователь вводит строку и ключ шифрования. Программа должна вывести зашифрованную строку, применив циклический сдвиг по указанному ключу. Шифрование выполняется только для латинских букв, пробелы не подлежат шифрованию.\n",
    "\n",
    "Пример:<br>\n",
    "- Dog, 2 → Fqi\n",
    "- Zak zak → Bcm bcm\n",
    "- Python is the BEST → Udymtsn kv ymj GJXY"
   ]
  },
  {
   "cell_type": "code",
   "execution_count": null,
   "metadata": {},
   "outputs": [],
   "source": [
    "alphabet = \"abcdefghijklmnopqrstuvwxyz\"\n",
    "\n",
    "string = input(\"Введите строку сиволов:\\n\")\n",
    "shift = None\n",
    "while True:\n",
    "    shift = input(\"Введите целочислленный ключ:\\n\")\n",
    "    if shift.isdigit():\n",
    "        shift = int(shift)\n",
    "        break\n",
    "output = \"\"\n",
    "\n",
    "for letter in string:\n",
    "    if letter.lower() in alphabet:\n",
    "        letter_position = alphabet.index(letter.lower())\n",
    "        shifted_index = (alphabet.index(letter.lower()) + shift) % len(alphabet)\n",
    "        # shifted_index = letter_position + shift\n",
    "        # if shifted_index >= len(alphabet):\n",
    "        #     shifted_index = abs(len(alphabet) - letter_position - shift)\n",
    "        output += alphabet[shifted_index] if letter.islower() else alphabet[shifted_index].upper()\n",
    "    else:\n",
    "        output += letter\n",
    "print(output)"
   ]
  },
  {
   "cell_type": "markdown",
   "metadata": {},
   "source": [
    "5. Табель успеваемости. Пользователь в цикле (пока не введена пустая строка) вводит данные в формате: 'название предмета' 'фамилия ученика' 'оценка'. По завершении ввода программа выводит таблицу, в которой указано название предмета, список учеников и их оценки<br>\n",
    "<br>\n",
    "Математика Иванов 5<br>\n",
    "Математика Иванов 4<br>\n",
    "Литература Иванов 3<br>\n",
    "Математика Петров 5<br>\n",
    "Литература Сидоров 3<br>\n",
    "Литература Петров 5<br>\n",
    "Литература Иванов 4<br>\n",
    "Математика Сидоров 3<br>\n",
    "Математика Петров 5<br>\n",
    "<br>\n",
    "Математика<br>\n",
    "Иванов 5 4<br>\n",
    "Петров 5 5<br>\n",
    "Сидоров 3<br>\n",
    "<br>\n",
    "Литература<br>\n",
    "Иванов 3 4<br>\n",
    "Сидоров 3<br>\n",
    "Петров 5<br>"
   ]
  },
  {
   "cell_type": "code",
   "execution_count": null,
   "metadata": {},
   "outputs": [],
   "source": [
    "records = []\n",
    "db = {}\n",
    "\n",
    "text = input(\"Введите Предмет_Фамилия_Оценка\\n\")\n",
    "while True:\n",
    "    if(len(text) == 0):\n",
    "        break\n",
    "    else:\n",
    "        records.append(tuple(text.split(\" \")))\n",
    "    text = input()\n",
    "\n",
    "for subject, student, grade in records:\n",
    "    if subject in db:\n",
    "        if student in db[subject]:\n",
    "            db[subject][student] = f\"{db[subject][student]} {grade}\"\n",
    "        else:\n",
    "            db[subject][student] = grade\n",
    "    else:\n",
    "        db[subject] = {student: grade}\n",
    "\n",
    "for key in db:\n",
    "    print(key)\n",
    "    for student, grades in db[key].items():\n",
    "        print(f\"{student} {grades}\")\n",
    "    print()"
   ]
  }
 ],
 "metadata": {
  "kernelspec": {
   "display_name": "Python 3",
   "language": "python",
   "name": "python3"
  },
  "language_info": {
   "codemirror_mode": {
    "name": "ipython",
    "version": 3
   },
   "file_extension": ".py",
   "mimetype": "text/x-python",
   "name": "python",
   "nbconvert_exporter": "python",
   "pygments_lexer": "ipython3",
   "version": "3.10.0"
  }
 },
 "nbformat": 4,
 "nbformat_minor": 2
}
