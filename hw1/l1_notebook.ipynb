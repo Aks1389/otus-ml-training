{
 "cells": [
  {
   "cell_type": "markdown",
   "metadata": {},
   "source": [
    "1. Пользователь вводит пятизначное число. Программа должна сохранить первую и последнюю цифры без изменений, а три центральные цифры переставить в зеркальном порядке.\n",
    "\n",
    "Пример:<br>\n",
    "- 23456 -> 25436\n",
    "- 30789 -> 38709"
   ]
  },
  {
   "cell_type": "code",
   "execution_count": null,
   "metadata": {},
   "outputs": [],
   "source": [
    "number = None\n",
    "while True:\n",
    "    number = input(\"Введите пятизначное число\\n\")\n",
    "    if len(number) == 5:\n",
    "        break\n",
    "new_number = number[0] + number[1:4][::-1] + number[len(number)-1]\n",
    "print(number + \" --> \" + new_number)"
   ]
  },
  {
   "cell_type": "markdown",
   "metadata": {},
   "source": [
    "2. Программа запрашивает у пользователя количество дней до ближайшего отпуска. На основе введенного числа программа вычисляет и выводит, сколько выходных дней (суббот и воскресений) останется до отпуска, учитывая, что сегодня понедельник и праздничные дни не учитываются.\n",
    "\n",
    "Пример:\n",
    "\n",
    "- 4 -> 0\n",
    "- 6 -> 1\n",
    "- 14 -> 4"
   ]
  },
  {
   "cell_type": "code",
   "execution_count": null,
   "metadata": {},
   "outputs": [],
   "source": [
    "n = None\n",
    "while True:\n",
    "    n = input(\"Введите число дней до отпуска\\n\")\n",
    "    if n.isdigit():\n",
    "        n = int(n)\n",
    "        break\n",
    "week = 7\n",
    "weekend_length = 2\n",
    "full_weeks = n // week\n",
    "days_in_last_week = n - (week * full_weeks)\n",
    "working_days_left_in_last_week = week - weekend_length - days_in_last_week\n",
    "if (working_days_left_in_last_week) > 0:\n",
    "     weekends_in_last_week = 0\n",
    "else:\n",
    "    weekends_in_last_week = abs(working_days_left_in_last_week)\n",
    "weekends_until_vac = weekend_length * full_weeks + weekends_in_last_week\n",
    "print(str(n) +\" --> \"+str(weekends_until_vac))"
   ]
  },
  {
   "cell_type": "markdown",
   "metadata": {},
   "source": [
    "3. Пользователь вводит длину и ширину шоколадной плитки, а также размер желаемого куска. Программа должна определить, можно ли отломить такой кусок, учитывая, что плитку разрешается ломать только по прямой линии.\n",
    "\n",
    "Пример:\n",
    "\n",
    "- 3, 4, 6 -> True\n",
    "- 5, 7, 8 -> False\n",
    "- 4, 5, 12 -> True"
   ]
  },
  {
   "cell_type": "code",
   "execution_count": null,
   "metadata": {},
   "outputs": [],
   "source": [
    "size = input(\"Введите размер плитки шоколада(х:у)\\n\")\n",
    "cut_size = input(\"Введите размер отламливаемого куска\\n\")\n",
    "length, width = list(map(int, size.split(':')))\n",
    "possible = int(cut_size) % int(length) == 0 \\\n",
    "    or int(cut_size) % int(width) == 0 \\\n",
    "    and int(cut_size) <= length * width\n",
    "print(size + ', ' + cut_size + ': ' + str(possible))"
   ]
  },
  {
   "cell_type": "markdown",
   "metadata": {},
   "source": [
    "4. Пользователь вводит целое положительное число, программа должна вернуть строку в виде римского числа\n",
    "\n",
    "Пример:\n",
    "\n",
    "- 3 -> III\n",
    "- 15 -> XV\n",
    "- 234 -> CCXXXIV"
   ]
  },
  {
   "cell_type": "code",
   "execution_count": null,
   "metadata": {},
   "outputs": [],
   "source": [
    "number = None\n",
    "while True:\n",
    "    number = input(\"Введите арабское число\\n\")\n",
    "    if number.isdigit():\n",
    "        number = int(number)\n",
    "        break\n",
    "dictionary = {1: \"I\", 5 : \"V\", 10 : \"X\", 50 : \"L\", 100 : \"C\", 40 : \"XL\", 9 : \"IX\", 4 : \"IV\", 90 : \"XC\"}\n",
    "nums = [100, 90, 50, 40, 10, 9, 5, 4, 1]\n",
    "rem = number\n",
    "s = ''\n",
    "for i in nums:\n",
    "    while i<=rem:\n",
    "        rem-=i\n",
    "        s+=dictionary[i]\n",
    "print(s)"
   ]
  },
  {
   "cell_type": "markdown",
   "metadata": {},
   "source": [
    "5. Пользователь вводит данные. Программа должна проверить, являются ли они положительным вещественным числом, используя только методы строк и конструкцию IF, без встроенных функций для проверки.\n",
    "Дополнительно (по желанию): реализовать проверку на отрицательные вещественные числа.\n",
    "\n",
    "Пример:\n",
    "\n",
    "- 5.6 -> True\n",
    "- .78 -> True\n",
    "- .67. -> False\n",
    "- 5 -> True"
   ]
  },
  {
   "cell_type": "code",
   "execution_count": null,
   "metadata": {},
   "outputs": [],
   "source": [
    "import re\n",
    "\n",
    "# Способ 1\n",
    "number = input(\"Введите число\\n\")\n",
    "regex = re.compile(r\"^-?\\d*(\\.\\d+)?$\")\n",
    "is_real = regex.fullmatch(number) is not None\n",
    "print(number + \" вещественное: \" + str(is_real))\n",
    "\n",
    "# Способ 2\n",
    "try:\n",
    "    float(number)\n",
    "    is_real = True\n",
    "except ValueError:\n",
    "    is_real = False\n",
    "finally:\n",
    "    print(number + \" вещественное: \" + str(is_real))"
   ]
  }
 ],
 "metadata": {
  "kernelspec": {
   "display_name": "Python 3",
   "language": "python",
   "name": "python3"
  },
  "language_info": {
   "codemirror_mode": {
    "name": "ipython",
    "version": 3
   },
   "file_extension": ".py",
   "mimetype": "text/x-python",
   "name": "python",
   "nbconvert_exporter": "python",
   "pygments_lexer": "ipython3",
   "version": "3.10.0"
  }
 },
 "nbformat": 4,
 "nbformat_minor": 2
}
