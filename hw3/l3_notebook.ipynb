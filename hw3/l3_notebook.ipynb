{
 "cells": [
  {
   "cell_type": "markdown",
   "metadata": {},
   "source": [
    "1. Написать функцию, которая будет перводить снейк_кейс в КэмелКейс и наоборот. Функция сама определяет - какой формат ей передали. Можно добавить ключевой аргумент, который будет принудительно возвращать один из форматов.\n",
    "\n",
    "Пример:\n",
    "\n",
    "- otus_course -> OtusCourse\n",
    "- PythonIsTheBest -> python_is_the_best"
   ]
  },
  {
   "cell_type": "code",
   "execution_count": null,
   "metadata": {},
   "outputs": [],
   "source": [
    "def containsUpperCase(string):\n",
    "    for a in string:\n",
    "        if a.isupper():\n",
    "            return True\n",
    "    return False\n",
    "\n",
    "def convert_case(string):\n",
    "    if\"_\" in string:\n",
    "        string = f\"{string[0].upper()}{string[1:]}\"\n",
    "        while \"_\" in string:\n",
    "            underscore_index = string.index(\"_\")\n",
    "            if underscore_index == len(string) - 1:\n",
    "                string = string.replace(\"_\", \"\")\n",
    "            else:\n",
    "                string = string.replace(f\"_{string[underscore_index+1]}\", string[underscore_index+1].upper())\n",
    "    else:\n",
    "        for i in range(len(string)):\n",
    "            if string[i].isupper():\n",
    "                if i == 0:\n",
    "                    string = f\"{string[i].lower()}{string[i+1:]}\"\n",
    "                else:\n",
    "                    string = f\"{string[:i]}_{string[i].lower()}{string[i+1:]}\"\n",
    "    return string\n",
    "\n",
    "string = input(\"Введите строку:\\n\")\n",
    "print(convert_case(string))"
   ]
  },
  {
   "cell_type": "markdown",
   "metadata": {},
   "source": [
    "2. Написать функцию проверяющую валидность введенной даты.\n",
    "\n",
    "Пример:\n",
    "\n",
    "- 29.02.2000 -> True\n",
    "- 29.02.2001 -> False\n",
    "- 31.04.1962 -> False"
   ]
  },
  {
   "cell_type": "code",
   "execution_count": null,
   "metadata": {},
   "outputs": [],
   "source": [
    "import datetime\n",
    "\n",
    "def check_date(user_date):\n",
    "    try:\n",
    "        datetime.datetime.strptime(user_date, \"%d.%m.%Y\")\n",
    "        return True\n",
    "    except:\n",
    "        return False\n",
    "\n",
    "user_date = input(\"Введите дату в формате дд.мм.гггг:\\n\")\n",
    "check_date(user_date)"
   ]
  },
  {
   "cell_type": "markdown",
   "metadata": {},
   "source": [
    "3. Функция проверки на простое число. Простые числа – это такие числа, которые делятся на себя и на единицу.\n",
    "\n",
    "Пример:\n",
    "\n",
    "- 17 -> True\n",
    "- 20 -> False\n",
    "- 23 -> True"
   ]
  },
  {
   "cell_type": "code",
   "execution_count": null,
   "metadata": {},
   "outputs": [],
   "source": [
    "def is_prime_number(number):\n",
    "    if number == 1: return False\n",
    "    for i in range(2,10):\n",
    "        if number % i == 0 and number != i:\n",
    "            return False\n",
    "        else:\n",
    "            return True\n",
    "\n",
    "n = None\n",
    "while True:\n",
    "    n = input(\"Введите число \\n\")\n",
    "    if n.isdigit():\n",
    "        n = int(n)\n",
    "        break\n",
    "print(is_prime_number(n))"
   ]
  },
  {
   "cell_type": "markdown",
   "metadata": {},
   "source": [
    "4. Пользователь в бесконечном цикле вводит данные пользователей: имя, затем фамилию, возраст и ID. Ввод продолжается до тех пор, пока не будет введено пустое поле. Пользователи заносятся в словарь, где ключ это ID пользователя, а остальные данные записываются в виде кортежа. Также программа должна проверять, что имя и фамилия состоят только из символов и начинаются с большой буквы, если не с большой, то заменяет на большую, возраст должен быть числом от 18 до 60, ID - целое число, дополненное до 8 знаков незначащими нулями, ID должен быть уникальным\n",
    "Дополнительно написать функцию, которая будет выводить полученный словарь в виде таблицы."
   ]
  },
  {
   "cell_type": "code",
   "execution_count": null,
   "metadata": {},
   "outputs": [],
   "source": [
    "import re\n",
    "from string import Template\n",
    "\n",
    "db = {}\n",
    "\n",
    "def includes_numbers(string):\n",
    "    return bool(re.search(r'\\d', string))\n",
    "\n",
    "def capitalize_string(string):\n",
    "    return f\"{string[0].upper()}{string[1:]}\"\n",
    "\n",
    "def print_db(dictionary):\n",
    "    if len(dictionary) == 0:\n",
    "        print(\"База данных пустая.\")\n",
    "        return\n",
    "    \n",
    "    col_size = 30\n",
    "    line_template = Template(\"\".join([f'|{{{i}:^$col_size}}' for i in range(4)])+\"|\")\n",
    "    line = line_template.substitute(col_size=col_size)\n",
    "    lines = []\n",
    "    \n",
    "    for id in dictionary:\n",
    "        lines.append(line.format(id, *dictionary[id]))\n",
    "    \n",
    "    print(\"=\"*len(lines[0]))\n",
    "    print(line.format(\"ID\",\"ИМЯ\", \"ФАМИЛИЯ\", \"ВОЗРАСТ\"))\n",
    "    print(\"=\"*len(lines[0]))\n",
    "    \n",
    "    for line in lines:\n",
    "        print(line)\n",
    "\n",
    "line = input(\"Введите Имя, Фамилию, Возраст, ID:\\n\")\n",
    "while True:\n",
    "    if(len(line) == 0):\n",
    "        break\n",
    "    else:\n",
    "        if len(line.split(\",\")) < 4:\n",
    "            print(\"Некорретный формат ввода данных.\")\n",
    "        else:\n",
    "            name, surname, age, id = line.replace(\" \", \"\").split(\",\")\n",
    "            id = f'{id:0>8}'\n",
    "            if includes_numbers(name) or includes_numbers(surname):\n",
    "                print(f\"Некорретный формат ввода Имени и/или Фамилии. Имя:{name}, Фамилия:{surname}\")\n",
    "            elif not age.isdigit():\n",
    "                print(\"Возраст не число: \" + str(age))\n",
    "            elif int(age) < 18 or int(age) > 60:\n",
    "                print(\"Возраст вне разрешенного диапазона [18-60]: \" + str(age))\n",
    "            elif id in db:\n",
    "                print(\"Неуникальный ID:\" + id)\n",
    "            else:\n",
    "                db[id] = (capitalize_string(name), capitalize_string(surname), int(age))\n",
    "    line = input()\n",
    "\n",
    "print_db(db)\n"
   ]
  }
 ],
 "metadata": {
  "kernelspec": {
   "display_name": "Python 3",
   "language": "python",
   "name": "python3"
  },
  "language_info": {
   "codemirror_mode": {
    "name": "ipython",
    "version": 3
   },
   "file_extension": ".py",
   "mimetype": "text/x-python",
   "name": "python",
   "nbconvert_exporter": "python",
   "pygments_lexer": "ipython3",
   "version": "3.10.0"
  }
 },
 "nbformat": 4,
 "nbformat_minor": 2
}
